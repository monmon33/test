{
 "cells": [
  {
   "cell_type": "code",
   "execution_count": 1,
   "metadata": {},
   "outputs": [
    {
     "name": "stdout",
     "output_type": "stream",
     "text": [
      "布爾型\n",
      "浮點型\n",
      "整型\n"
     ]
    }
   ],
   "source": [
    "print(\"布爾型\")\n",
    "print(\"浮點型\")\n",
    "print(\"整型\")"
   ]
  },
  {
   "cell_type": "code",
   "execution_count": null,
   "metadata": {
    "collapsed": true
   },
   "outputs": [],
   "source": []
  },
  {
   "cell_type": "code",
   "execution_count": 2,
   "metadata": {},
   "outputs": [
    {
     "data": {
      "text/plain": [
       "['y', 'o', 'y', 'o']"
      ]
     },
     "execution_count": 2,
     "metadata": {},
     "output_type": "execute_result"
    }
   ],
   "source": [
    "s=['y','o','y','o']\n",
    "s[:]"
   ]
  },
  {
   "cell_type": "code",
   "execution_count": 3,
   "metadata": {},
   "outputs": [
    {
     "name": "stdout",
     "output_type": "stream",
     "text": [
      "                     600029.XSHG\n",
      "datetime                        \n",
      "2017-01-03 15:00:00        11.64\n",
      "2017-01-04 15:00:00        11.72\n",
      "2017-01-05 15:00:00        11.80\n",
      "2017-01-06 15:00:00        11.80\n",
      "2017-01-09 15:00:00        11.85\n",
      "2017-01-10 15:00:00        12.73\n",
      "2017-01-11 15:00:00        12.13\n",
      "2017-01-12 15:00:00        11.98\n",
      "2017-01-13 15:00:00        11.97\n",
      "2017-01-16 15:00:00        12.02\n",
      "2017-01-17 15:00:00        11.97\n",
      "2017-01-18 15:00:00        12.03\n",
      "2017-01-19 15:00:00        11.98\n",
      "2017-01-20 15:00:00        12.03\n",
      "2017-01-23 15:00:00        12.17\n",
      "2017-01-24 15:00:00        12.18\n",
      "2017-01-25 15:00:00        12.22\n",
      "2017-01-26 15:00:00        12.08\n",
      "2017-02-03 15:00:00        12.03\n",
      "2017-02-06 15:00:00        11.89\n",
      "2017-02-07 15:00:00        11.89\n",
      "2017-02-08 15:00:00        11.95\n",
      "2017-02-09 15:00:00        11.98\n",
      "2017-02-10 15:00:00        12.15\n",
      "2017-02-13 15:00:00        12.20\n",
      "2017-02-14 15:00:00        12.18\n",
      "2017-02-15 15:00:00        12.30\n",
      "2017-02-16 15:00:00        12.48\n",
      "2017-02-17 15:00:00        12.30\n",
      "2017-02-20 15:00:00        12.68\n",
      "...                          ...\n",
      "2017-10-10 15:00:00        13.65\n",
      "2017-10-11 15:00:00        13.67\n",
      "2017-10-12 15:00:00        13.52\n",
      "2017-10-13 15:00:00        13.57\n",
      "2017-10-16 15:00:00        13.47\n",
      "2017-10-17 15:00:00        13.32\n",
      "2017-10-18 15:00:00        13.44\n",
      "2017-10-19 15:00:00        13.55\n",
      "2017-10-20 15:00:00        13.65\n",
      "2017-10-23 15:00:00        13.68\n",
      "2017-10-24 15:00:00        13.85\n",
      "2017-10-25 15:00:00        13.82\n",
      "2017-10-26 15:00:00        13.83\n",
      "2017-10-27 15:00:00        14.11\n",
      "2017-10-30 15:00:00        14.25\n",
      "2017-10-31 15:00:00        14.39\n",
      "2017-11-01 15:00:00        15.10\n",
      "2017-11-02 15:00:00        15.15\n",
      "2017-11-03 15:00:00        15.22\n",
      "2017-11-06 15:00:00        14.97\n",
      "2017-11-07 15:00:00        14.89\n",
      "2017-11-08 15:00:00        14.99\n",
      "2017-11-09 15:00:00        14.71\n",
      "2017-11-10 15:00:00        15.07\n",
      "2017-11-13 15:00:00        15.35\n",
      "2017-11-14 15:00:00        16.00\n",
      "2017-11-15 15:00:00        16.04\n",
      "2017-11-16 15:00:00        16.29\n",
      "2017-11-17 15:00:00        16.97\n",
      "2017-11-20 15:00:00        17.05\n",
      "\n",
      "[212 rows x 1 columns]\n"
     ]
    }
   ],
   "source": [
    "import numpy as np\n",
    "import pandas as pd\n",
    "import warnings\n",
    "import talib as ta\n",
    "import pandas as pd\n",
    "warnings.filterwarnings('ignore')\n",
    "\n",
    "from datetime import datetime\n",
    "\n",
    "symbol=['600029.XSHG']\n",
    "data_dict = {}\n",
    "for s in symbol:\n",
    "    data =  pd.read_excel('sz50.xlsx',sheetname=s, index_col='datetime')\n",
    "    data_dict[s] = data['close']\n",
    "data = pd.DataFrame(data_dict)\n",
    "\n",
    "print(data.iloc[:])"
   ]
  },
  {
   "cell_type": "code",
   "execution_count": 4,
   "metadata": {},
   "outputs": [
    {
     "ename": "SyntaxError",
     "evalue": "unexpected EOF while parsing (<ipython-input-4-ca695e2ea0d0>, line 6)",
     "output_type": "error",
     "traceback": [
      "\u001b[0;36m  File \u001b[0;32m\"<ipython-input-4-ca695e2ea0d0>\"\u001b[0;36m, line \u001b[0;32m6\u001b[0m\n\u001b[0;31m    \u001b[0m\n\u001b[0m    ^\u001b[0m\n\u001b[0;31mSyntaxError\u001b[0m\u001b[0;31m:\u001b[0m unexpected EOF while parsing\n"
     ]
    }
   ],
   "source": [
    "data=pd.read_excel('sz50.xlsx',sheetname=None,index_col='datetime')\n",
    "\n",
    "MA = ta.MA(data['600029.XSHG'].close.values,10)\n",
    "print(type(MA))\n",
    "print(MA[-5:]\n",
    "      "
   ]
  },
  {
   "cell_type": "code",
   "execution_count": 5,
   "metadata": {},
   "outputs": [
    {
     "name": "stdout",
     "output_type": "stream",
     "text": [
      "<class 'pandas.core.panel.Panel'>\n",
      "Dimensions: 3 (items) x 215 (major_axis) x 5 (minor_axis)\n",
      "Items axis: 600029.XSHG to 601318.XSHG\n",
      "Major_axis axis: 2017-01-03 15:00:00 to 2017-11-20 15:00:00\n",
      "Minor_axis axis: close to volume\n"
     ]
    }
   ],
   "source": [
    "import warnings\n",
    "warnings.filterwarnings('ignore')\n",
    "from datetime import datetime\n",
    "import pandas as pd\n",
    "symbol=['600029.XSHG','600050.XSHG','601318.XSHG']\n",
    "data_dict = {}\n",
    "for s in symbol:\n",
    "    data =  pd.read_excel('sz50.xlsx',sheetname=s, index_col='datetime')\n",
    "    data_dict[s] = data.loc[:]\n",
    "PN = pd.Panel(data_dict)\n",
    "print(PN)"
   ]
  },
  {
   "cell_type": "code",
   "execution_count": 6,
   "metadata": {},
   "outputs": [
    {
     "ename": "AttributeError",
     "evalue": "'collections.OrderedDict' object has no attribute 'iloc'",
     "output_type": "error",
     "traceback": [
      "\u001b[0;31m---------------------------------------------------------------------------\u001b[0m",
      "\u001b[0;31mAttributeError\u001b[0m                            Traceback (most recent call last)",
      "\u001b[0;32m<ipython-input-6-592fa44991d7>\u001b[0m in \u001b[0;36m<module>\u001b[0;34m()\u001b[0m\n\u001b[1;32m      7\u001b[0m \u001b[0msymbol\u001b[0m\u001b[0;34m=\u001b[0m\u001b[0;34m[\u001b[0m\u001b[0;34m'600029.XSHG'\u001b[0m\u001b[0;34m,\u001b[0m\u001b[0;34m'600050.XSHG'\u001b[0m\u001b[0;34m,\u001b[0m\u001b[0;34m'601318.XSHG'\u001b[0m\u001b[0;34m]\u001b[0m\u001b[0;34m\u001b[0m\u001b[0m\n\u001b[1;32m      8\u001b[0m \u001b[0mdata\u001b[0m \u001b[0;34m=\u001b[0m \u001b[0mpd\u001b[0m\u001b[0;34m.\u001b[0m\u001b[0mread_excel\u001b[0m\u001b[0;34m(\u001b[0m\u001b[0;34m'sz50.xlsx'\u001b[0m\u001b[0;34m,\u001b[0m \u001b[0msymbol\u001b[0m\u001b[0;34m,\u001b[0m \u001b[0mindex_col\u001b[0m\u001b[0;34m=\u001b[0m\u001b[0;34m'datetime'\u001b[0m\u001b[0;34m)\u001b[0m\u001b[0;34m\u001b[0m\u001b[0m\n\u001b[0;32m----> 9\u001b[0;31m \u001b[0mprint\u001b[0m\u001b[0;34m(\u001b[0m\u001b[0mdata\u001b[0m\u001b[0;34m.\u001b[0m\u001b[0miloc\u001b[0m\u001b[0;34m[\u001b[0m\u001b[0;34m-\u001b[0m\u001b[0;36m20\u001b[0m\u001b[0;34m:\u001b[0m\u001b[0;34m]\u001b[0m\u001b[0;34m)\u001b[0m\u001b[0;34m\u001b[0m\u001b[0m\n\u001b[0m",
      "\u001b[0;31mAttributeError\u001b[0m: 'collections.OrderedDict' object has no attribute 'iloc'"
     ]
    }
   ],
   "source": [
    "import numpy as np\n",
    "import pandas as pd\n",
    "from datetime import datetime\n",
    "import warnings\n",
    "warnings.filterwarnings('ignore')\n",
    "\n",
    "symbol=['600029.XSHG','600050.XSHG','601318.XSHG']\n",
    "data = pd.read_excel('sz50.xlsx', symbol, index_col='datetime')\n",
    "print(data.iloc[-20:])"
   ]
  },
  {
   "cell_type": "code",
   "execution_count": 7,
   "metadata": {},
   "outputs": [
    {
     "name": "stdout",
     "output_type": "stream",
     "text": [
      "[[ 0  1  2  3  4]\n",
      " [ 5  6  7  8  9]\n",
      " [10 11 12 13 14]\n",
      " [15 16 17 18 19]\n",
      " [20 21 22 23 24]]\n"
     ]
    }
   ],
   "source": [
    "arr1 = np.arange(25).reshape(5,5)\n",
    "print(arr1)"
   ]
  },
  {
   "cell_type": "code",
   "execution_count": null,
   "metadata": {
    "collapsed": true
   },
   "outputs": [],
   "source": []
  }
 ],
 "metadata": {
  "kernelspec": {
   "display_name": "Python 3",
   "language": "python",
   "name": "python3"
  },
  "language_info": {
   "codemirror_mode": {
    "name": "ipython",
    "version": 3
   },
   "file_extension": ".py",
   "mimetype": "text/x-python",
   "name": "python",
   "nbconvert_exporter": "python",
   "pygments_lexer": "ipython3",
   "version": "3.6.2"
  }
 },
 "nbformat": 4,
 "nbformat_minor": 2
}
